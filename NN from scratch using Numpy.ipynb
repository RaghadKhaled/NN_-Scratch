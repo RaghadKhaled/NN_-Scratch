{
 "cells": [
  {
   "cell_type": "markdown",
   "id": "978586d8",
   "metadata": {},
   "source": [
    "# Data"
   ]
  },
  {
   "cell_type": "code",
   "execution_count": 2,
   "id": "4c460290",
   "metadata": {},
   "outputs": [],
   "source": [
    "import numpy as np\n",
    "\n",
    "# Assign a seed to our random number generator to ensure we get\n",
    "# reproducable results during development \n",
    "np.random.seed(42)\n",
    "\n",
    "features = np.random.normal(size=(2, 4))\n",
    "targets = np.random.normal(size=(2, 1))"
   ]
  },
  {
   "cell_type": "markdown",
   "id": "caff6283",
   "metadata": {},
   "source": [
    "# Model"
   ]
  },
  {
   "cell_type": "code",
   "execution_count": 28,
   "id": "e8168db0",
   "metadata": {},
   "outputs": [],
   "source": [
    "class NN():\n",
    "    def __init__(self):\n",
    "        \n",
    "        # network size\n",
    "        self.n_input = 4    \n",
    "        self.n_hidden = 3                   \n",
    "        self.n_output = 1  \n",
    "        \n",
    "        # initialize weights\n",
    "        self.weights_input_hidden = np.random.normal(scale=1 / self.n_input ** .5,\n",
    "                                        size=(self.n_input, self.n_hidden)) \n",
    "        self.weights_hidden_output = np.random.normal(scale=1 / self.n_hidden ** .5,\n",
    "                                         size=(self.n_hidden, self.n_output)) \n",
    "        \n",
    "        self.del_w_input_hidden = np.zeros(self.weights_input_hidden.shape)\n",
    "        self.del_w_hidden_output = np.zeros(self.weights_hidden_output.shape)\n",
    "        \n",
    "        # hyperparameter\n",
    "        self.learnrate = 0.5\n",
    "        self.epochs = 3\n",
    "        \n",
    "    def sigmoid(self, x):\n",
    "        return 1 / (1 + np.exp(-x))\n",
    "\n",
    "    \n",
    "    def sigmoid_prime(self, x):\n",
    "        return self.sigmoid(x) * (1 - self.sigmoid(x))\n",
    "        \n",
    "        \n",
    "    def forward(self, x):\n",
    "        self.hidden_output = self.sigmoid(np.dot(x, self.weights_input_hidden)) \n",
    "        self.output = self.sigmoid(np.dot(self.hidden_output, self.weights_hidden_output)) \n",
    "        return self.output\n",
    "    \n",
    "    def backward(self, x, y, output):\n",
    "        self.output_error = y - output  \n",
    "        self.output_delta = self.output_error * self.sigmoid_prime(output)\n",
    "        self.hidden_error = np.dot(self.weights_hidden_output, self.output_delta)\n",
    "        self.hidden_delta = self.hidden_error * self.sigmoid_prime(self.hidden_output)\n",
    "\n",
    "\n",
    "        self.del_w_input_hidden += self.hidden_delta * x[:, None]\n",
    "        self.del_w_hidden_output += self.hidden_output.reshape(3,1) * self.output_delta.reshape(1,1)\n",
    "        \n",
    "        \n",
    "    def train(self, features, targets):\n",
    "        for e in range(self.epochs):\n",
    "            for x, y in zip(features, targets):\n",
    "                # forward \n",
    "                output = self.forward(x)\n",
    "                # backward\n",
    "                self.backward(x, y, output)\n",
    "            # update weights\n",
    "            self.weights_input_hidden += self.learnrate * self.del_w_input_hidden\n",
    "            self.weights_hidden_output += self.learnrate * self.del_w_hidden_output\n",
    "                "
   ]
  },
  {
   "cell_type": "markdown",
   "id": "f1551093",
   "metadata": {},
   "source": [
    "# Train"
   ]
  },
  {
   "cell_type": "code",
   "execution_count": 29,
   "id": "0212ebfd",
   "metadata": {},
   "outputs": [],
   "source": [
    "NN = NN()\n",
    "NN.train(features, targets)"
   ]
  }
 ],
 "metadata": {
  "kernelspec": {
   "display_name": "Python 3 (ipykernel)",
   "language": "python",
   "name": "python3"
  },
  "language_info": {
   "codemirror_mode": {
    "name": "ipython",
    "version": 3
   },
   "file_extension": ".py",
   "mimetype": "text/x-python",
   "name": "python",
   "nbconvert_exporter": "python",
   "pygments_lexer": "ipython3",
   "version": "3.8.13"
  }
 },
 "nbformat": 4,
 "nbformat_minor": 5
}
