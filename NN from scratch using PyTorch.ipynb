{
 "cells": [
  {
   "cell_type": "markdown",
   "id": "c2609b04",
   "metadata": {},
   "source": [
    "# Data"
   ]
  },
  {
   "cell_type": "code",
   "execution_count": 1,
   "id": "4150b68d",
   "metadata": {},
   "outputs": [],
   "source": [
    "import torch\n",
    "from torch import nn"
   ]
  },
  {
   "cell_type": "code",
   "execution_count": 11,
   "id": "e156c2ab",
   "metadata": {},
   "outputs": [],
   "source": [
    "# Set the random seed so things are predictable\n",
    "torch.manual_seed(7) \n",
    "\n",
    "features = torch.randn((3, 2))  \n",
    "targets = torch.randn((3, 1)) "
   ]
  },
  {
   "cell_type": "markdown",
   "id": "3ff829f2",
   "metadata": {},
   "source": [
    "# Model"
   ]
  },
  {
   "cell_type": "code",
   "execution_count": 12,
   "id": "07dc5087",
   "metadata": {},
   "outputs": [],
   "source": [
    "class NN(nn.Module):\n",
    "    def __init__(self, ):\n",
    "        super(NN, self).__init__()\n",
    "        \n",
    "        # network size\n",
    "        self.n_input = 2    \n",
    "        self.n_hidden = 3                   \n",
    "        self.n_output = 1  \n",
    "        \n",
    "        # initialize weights\n",
    "        self.weights_input_hidden = torch.randn((self.n_input, self.n_hidden)) \n",
    "        self.weights_hidden_output = torch.randn((self.n_hidden, self.n_output)) \n",
    "        \n",
    "        self.del_w_input_hidden = torch.zeros(self.weights_input_hidden.shape)\n",
    "        self.del_w_hidden_output = torch.zeros(self.weights_hidden_output.shape)\n",
    "        \n",
    "        # hyperparameter\n",
    "        self.learnrate = 0.5\n",
    "        self.epochs = 3\n",
    "        \n",
    "    def sigmoid(self, x):\n",
    "        return 1 / (1 + torch.exp(-x))\n",
    "\n",
    "    \n",
    "    def sigmoid_prime(self, x):\n",
    "        return self.sigmoid(x) * (1 - self.sigmoid(x))\n",
    "        \n",
    "        \n",
    "    def forward(self, x):\n",
    "        self.hidden_output = self.sigmoid(torch.matmul(x, self.weights_input_hidden)) \n",
    "        self.output = self.sigmoid(torch.matmul(self.hidden_output, self.weights_hidden_output)) \n",
    "        return self.output\n",
    "    \n",
    "    def backward(self, x, y, output):\n",
    "        self.output_error = y - output  \n",
    "        self.output_delta = self.output_error * self.sigmoid_prime(output)\n",
    "        self.hidden_error = torch.matmul(self.weights_hidden_output, self.output_delta)\n",
    "        self.hidden_delta = self.hidden_error * self.sigmoid_prime(self.hidden_output)\n",
    "\n",
    "        self.del_w_input_hidden += torch.matmul(x.reshape(2, 1), self.hidden_delta.reshape(1,3) )\n",
    "        self.del_w_hidden_output += torch.matmul(self.hidden_output.reshape(3,1), self.output_delta.reshape(1,1))\n",
    "        \n",
    "        \n",
    "    def train(self, features, targets):\n",
    "        for e in range(self.epochs):\n",
    "            for x, y in zip(features, targets):\n",
    "                # forward \n",
    "                output = self.forward(x)\n",
    "                # backward\n",
    "                self.backward(x, y, output)\n",
    "            # update weights\n",
    "            self.weights_input_hidden += self.learnrate * self.del_w_input_hidden\n",
    "            self.weights_hidden_output += self.learnrate * self.del_w_hidden_output\n",
    "                "
   ]
  },
  {
   "cell_type": "markdown",
   "id": "98c06618",
   "metadata": {},
   "source": [
    "# Traning"
   ]
  },
  {
   "cell_type": "code",
   "execution_count": 13,
   "id": "01acb161",
   "metadata": {},
   "outputs": [],
   "source": [
    "NN = NN()\n",
    "NN.train(features, targets)"
   ]
  },
  {
   "cell_type": "code",
   "execution_count": null,
   "id": "deb9ebf0",
   "metadata": {},
   "outputs": [],
   "source": []
  }
 ],
 "metadata": {
  "kernelspec": {
   "display_name": "Python 3 (ipykernel)",
   "language": "python",
   "name": "python3"
  },
  "language_info": {
   "codemirror_mode": {
    "name": "ipython",
    "version": 3
   },
   "file_extension": ".py",
   "mimetype": "text/x-python",
   "name": "python",
   "nbconvert_exporter": "python",
   "pygments_lexer": "ipython3",
   "version": "3.8.13"
  }
 },
 "nbformat": 4,
 "nbformat_minor": 5
}
