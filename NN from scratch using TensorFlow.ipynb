{
 "cells": [
  {
   "cell_type": "markdown",
   "id": "08de875e",
   "metadata": {},
   "source": [
    "# Data"
   ]
  },
  {
   "cell_type": "code",
   "execution_count": 84,
   "id": "78d8dbb8",
   "metadata": {},
   "outputs": [],
   "source": [
    "import tensorflow as tf\n",
    "\n",
    " # Set the random seed so things are predictable\n",
    "tf.random.set_seed(7) \n",
    "\n",
    "features = tf.random.normal((3, 2))  \n",
    "targets = tf.random.normal((3, 1)) "
   ]
  },
  {
   "cell_type": "markdown",
   "id": "ed08cb4a",
   "metadata": {},
   "source": [
    "# Model"
   ]
  },
  {
   "cell_type": "code",
   "execution_count": 99,
   "id": "489b96e4",
   "metadata": {},
   "outputs": [],
   "source": [
    "class NN(tf.keras.Model):\n",
    "    def __init__(self, ):\n",
    "        super(NN, self).__init__()\n",
    "        \n",
    "        # network size\n",
    "        self.n_input = 2    \n",
    "        self.n_hidden = 2                   \n",
    "        self.n_output = 1  \n",
    "        \n",
    "        # initialize weights\n",
    "        self.weights_input_hidden = tf.random.normal((self.n_input, self.n_hidden)) # 4x2\n",
    "        self.weights_hidden_output = tf.random.normal((self.n_hidden, self.n_output)) # 2x1\n",
    "        \n",
    "        self.del_w_input_hidden = tf.zeros(self.weights_input_hidden.shape)# 4x2\n",
    "        self.del_w_hidden_output = tf.zeros(self.weights_hidden_output.shape)# 2x1\n",
    "        \n",
    "        # hyperparameter\n",
    "        self.learnrate = 0.5\n",
    "        self.epochs = 3\n",
    "        \n",
    "    def sigmoid(self, x):\n",
    "        return 1 / (1 + tf.exp(-x))\n",
    "\n",
    "    \n",
    "    def sigmoid_prime(self, x):\n",
    "        return self.sigmoid(x) * (1 - self.sigmoid(x))\n",
    "        \n",
    "        \n",
    "    def forward(self, x):\n",
    "        self.hidden_output = self.sigmoid(tf.matmul(tf.reshape(x, [1,2]) ,self.weights_input_hidden)) \n",
    "        self.outputt = self.sigmoid(tf.matmul(self.hidden_output, self.weights_hidden_output)) \n",
    "        return self.outputt\n",
    "    \n",
    "    def backward(self, x, y, output):\n",
    "        self.output_error = y - output  \n",
    "        self.output_delta = self.output_error * self.sigmoid_prime(output) \n",
    "        self.hidden_error = tf.matmul(self.weights_hidden_output, self.output_delta) \n",
    "        self.hidden_delta = self.hidden_error *self.sigmoid_prime(self.hidden_output) \n",
    "\n",
    "        self.del_w_input_hidden += tf.matmul(tf.reshape(x, [1,2]), self.hidden_delta)\n",
    "        self.del_w_hidden_output += tf.matmul(self.hidden_output, self.output_delta, transpose_a = True)\n",
    "        \n",
    "        \n",
    "    def train(self, features, targets):\n",
    "        for e in range(self.epochs):\n",
    "            for x, y in zip(features, targets):\n",
    "                # forward \n",
    "                output = self.forward(x)\n",
    "                # backward\n",
    "                self.backward(x, y, output)\n",
    "            # update weights\n",
    "            self.weights_input_hidden += self.learnrate * self.del_w_input_hidden\n",
    "            self.weights_hidden_output += self.learnrate * self.del_w_hidden_output\n",
    "                "
   ]
  },
  {
   "cell_type": "markdown",
   "id": "7a72a70d",
   "metadata": {},
   "source": [
    "# Train"
   ]
  },
  {
   "cell_type": "code",
   "execution_count": 100,
   "id": "5a63b8db",
   "metadata": {},
   "outputs": [],
   "source": [
    "NN = NN()\n",
    "NN.train(features, targets)"
   ]
  }
 ],
 "metadata": {
  "kernelspec": {
   "display_name": "Python 3 (ipykernel)",
   "language": "python",
   "name": "python3"
  },
  "language_info": {
   "codemirror_mode": {
    "name": "ipython",
    "version": 3
   },
   "file_extension": ".py",
   "mimetype": "text/x-python",
   "name": "python",
   "nbconvert_exporter": "python",
   "pygments_lexer": "ipython3",
   "version": "3.8.13"
  }
 },
 "nbformat": 4,
 "nbformat_minor": 5
}
